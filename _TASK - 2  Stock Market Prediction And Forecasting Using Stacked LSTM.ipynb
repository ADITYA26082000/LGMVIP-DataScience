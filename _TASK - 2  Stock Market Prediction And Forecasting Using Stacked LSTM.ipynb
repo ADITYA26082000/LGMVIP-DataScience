{
 "cells": [
  {
   "cell_type": "markdown",
   "id": "6def1e7c",
   "metadata": {},
   "source": [
    "## Let's Grow More(LGMVIP) - \"DATA SCIENCE INTERN\"\n",
    "## LGMVIP March-22\n",
    "## AUTHOR -ADITYA RAJ\n",
    "## BEGINNER LEVEL TASK\n",
    "## TASK-2 - Stock Market Prediction And Forecasting Using Stacked LSTM\n",
    "DatasetLink : https://raw.githubusercontent.com/mwitiderrick/stockprice/master/NSE-TATAGLOBAL.csv\n",
    "## Importing Libraries"
   ]
  },
  {
   "cell_type": "code",
   "execution_count": 6,
   "id": "19fb1771",
   "metadata": {},
   "outputs": [
    {
     "name": "stdout",
     "output_type": "stream",
     "text": [
      "Requirement already satisfied: tensorflow in c:\\users\\adity\\anaconda3\\envs\\bizanalytics2\\lib\\site-packages (2.9.1)Note: you may need to restart the kernel to use updated packages.\n",
      "\n",
      "Requirement already satisfied: astunparse>=1.6.0 in c:\\users\\adity\\anaconda3\\envs\\bizanalytics2\\lib\\site-packages (from tensorflow) (1.6.3)\n",
      "Requirement already satisfied: h5py>=2.9.0 in c:\\users\\adity\\anaconda3\\envs\\bizanalytics2\\lib\\site-packages (from tensorflow) (3.7.0)\n",
      "Requirement already satisfied: wrapt>=1.11.0 in c:\\users\\adity\\anaconda3\\envs\\bizanalytics2\\lib\\site-packages (from tensorflow) (1.14.1)\n",
      "Requirement already satisfied: grpcio<2.0,>=1.24.3 in c:\\users\\adity\\anaconda3\\envs\\bizanalytics2\\lib\\site-packages (from tensorflow) (1.47.0)\n",
      "Requirement already satisfied: keras<2.10.0,>=2.9.0rc0 in c:\\users\\adity\\anaconda3\\envs\\bizanalytics2\\lib\\site-packages (from tensorflow) (2.9.0)\n",
      "Requirement already satisfied: termcolor>=1.1.0 in c:\\users\\adity\\anaconda3\\envs\\bizanalytics2\\lib\\site-packages (from tensorflow) (1.1.0)\n",
      "Requirement already satisfied: google-pasta>=0.1.1 in c:\\users\\adity\\anaconda3\\envs\\bizanalytics2\\lib\\site-packages (from tensorflow) (0.2.0)\n",
      "Requirement already satisfied: tensorboard<2.10,>=2.9 in c:\\users\\adity\\anaconda3\\envs\\bizanalytics2\\lib\\site-packages (from tensorflow) (2.9.1)\n",
      "Requirement already satisfied: flatbuffers<2,>=1.12 in c:\\users\\adity\\anaconda3\\envs\\bizanalytics2\\lib\\site-packages (from tensorflow) (1.12)\n",
      "Requirement already satisfied: keras-preprocessing>=1.1.1 in c:\\users\\adity\\anaconda3\\envs\\bizanalytics2\\lib\\site-packages (from tensorflow) (1.1.2)\n",
      "Requirement already satisfied: packaging in c:\\users\\adity\\anaconda3\\envs\\bizanalytics2\\lib\\site-packages (from tensorflow) (21.3)\n",
      "Requirement already satisfied: gast<=0.4.0,>=0.2.1 in c:\\users\\adity\\anaconda3\\envs\\bizanalytics2\\lib\\site-packages (from tensorflow) (0.4.0)\n",
      "Requirement already satisfied: tensorflow-io-gcs-filesystem>=0.23.1 in c:\\users\\adity\\anaconda3\\envs\\bizanalytics2\\lib\\site-packages (from tensorflow) (0.26.0)\n",
      "Requirement already satisfied: numpy>=1.20 in c:\\users\\adity\\appdata\\roaming\\python\\python310\\site-packages (from tensorflow) (1.23.1)\n",
      "Requirement already satisfied: setuptools in c:\\users\\adity\\anaconda3\\envs\\bizanalytics2\\lib\\site-packages (from tensorflow) (58.0.4)\n",
      "Requirement already satisfied: protobuf<3.20,>=3.9.2 in c:\\users\\adity\\anaconda3\\envs\\bizanalytics2\\lib\\site-packages (from tensorflow) (3.19.4)\n",
      "Requirement already satisfied: typing-extensions>=3.6.6 in c:\\users\\adity\\anaconda3\\envs\\bizanalytics2\\lib\\site-packages (from tensorflow) (4.3.0)\n",
      "Requirement already satisfied: absl-py>=1.0.0 in c:\\users\\adity\\anaconda3\\envs\\bizanalytics2\\lib\\site-packages (from tensorflow) (1.2.0)\n",
      "Requirement already satisfied: six>=1.12.0 in c:\\users\\adity\\appdata\\roaming\\python\\python310\\site-packages (from tensorflow) (1.16.0)\n",
      "Requirement already satisfied: tensorflow-estimator<2.10.0,>=2.9.0rc0 in c:\\users\\adity\\anaconda3\\envs\\bizanalytics2\\lib\\site-packages (from tensorflow) (2.9.0)\n",
      "Requirement already satisfied: opt-einsum>=2.3.2 in c:\\users\\adity\\anaconda3\\envs\\bizanalytics2\\lib\\site-packages (from tensorflow) (3.3.0)\n",
      "Requirement already satisfied: libclang>=13.0.0 in c:\\users\\adity\\anaconda3\\envs\\bizanalytics2\\lib\\site-packages (from tensorflow) (14.0.1)\n",
      "Requirement already satisfied: wheel<1.0,>=0.23.0 in c:\\users\\adity\\anaconda3\\envs\\bizanalytics2\\lib\\site-packages (from astunparse>=1.6.0->tensorflow) (0.37.1)\n",
      "Requirement already satisfied: tensorboard-data-server<0.7.0,>=0.6.0 in c:\\users\\adity\\anaconda3\\envs\\bizanalytics2\\lib\\site-packages (from tensorboard<2.10,>=2.9->tensorflow) (0.6.1)\n",
      "Requirement already satisfied: requests<3,>=2.21.0 in c:\\users\\adity\\anaconda3\\envs\\bizanalytics2\\lib\\site-packages (from tensorboard<2.10,>=2.9->tensorflow) (2.28.1)\n",
      "Requirement already satisfied: tensorboard-plugin-wit>=1.6.0 in c:\\users\\adity\\anaconda3\\envs\\bizanalytics2\\lib\\site-packages (from tensorboard<2.10,>=2.9->tensorflow) (1.8.1)\n",
      "Requirement already satisfied: google-auth-oauthlib<0.5,>=0.4.1 in c:\\users\\adity\\anaconda3\\envs\\bizanalytics2\\lib\\site-packages (from tensorboard<2.10,>=2.9->tensorflow) (0.4.6)\n",
      "Requirement already satisfied: werkzeug>=1.0.1 in c:\\users\\adity\\anaconda3\\envs\\bizanalytics2\\lib\\site-packages (from tensorboard<2.10,>=2.9->tensorflow) (2.1.2)\n",
      "Requirement already satisfied: markdown>=2.6.8 in c:\\users\\adity\\anaconda3\\envs\\bizanalytics2\\lib\\site-packages (from tensorboard<2.10,>=2.9->tensorflow) (3.4.1)\n",
      "Requirement already satisfied: google-auth<3,>=1.6.3 in c:\\users\\adity\\anaconda3\\envs\\bizanalytics2\\lib\\site-packages (from tensorboard<2.10,>=2.9->tensorflow) (2.9.1)\n",
      "Requirement already satisfied: rsa<5,>=3.1.4 in c:\\users\\adity\\anaconda3\\envs\\bizanalytics2\\lib\\site-packages (from google-auth<3,>=1.6.3->tensorboard<2.10,>=2.9->tensorflow) (4.9)\n",
      "Requirement already satisfied: cachetools<6.0,>=2.0.0 in c:\\users\\adity\\anaconda3\\envs\\bizanalytics2\\lib\\site-packages (from google-auth<3,>=1.6.3->tensorboard<2.10,>=2.9->tensorflow) (5.2.0)\n",
      "Requirement already satisfied: pyasn1-modules>=0.2.1 in c:\\users\\adity\\anaconda3\\envs\\bizanalytics2\\lib\\site-packages (from google-auth<3,>=1.6.3->tensorboard<2.10,>=2.9->tensorflow) (0.2.8)\n",
      "Requirement already satisfied: requests-oauthlib>=0.7.0 in c:\\users\\adity\\anaconda3\\envs\\bizanalytics2\\lib\\site-packages (from google-auth-oauthlib<0.5,>=0.4.1->tensorboard<2.10,>=2.9->tensorflow) (1.3.1)\n",
      "Requirement already satisfied: pyasn1<0.5.0,>=0.4.6 in c:\\users\\adity\\anaconda3\\envs\\bizanalytics2\\lib\\site-packages (from pyasn1-modules>=0.2.1->google-auth<3,>=1.6.3->tensorboard<2.10,>=2.9->tensorflow) (0.4.8)\n",
      "Requirement already satisfied: certifi>=2017.4.17 in c:\\users\\adity\\anaconda3\\envs\\bizanalytics2\\lib\\site-packages (from requests<3,>=2.21.0->tensorboard<2.10,>=2.9->tensorflow) (2020.6.20)\n",
      "Requirement already satisfied: idna<4,>=2.5 in c:\\users\\adity\\anaconda3\\envs\\bizanalytics2\\lib\\site-packages (from requests<3,>=2.21.0->tensorboard<2.10,>=2.9->tensorflow) (3.3)\n",
      "Requirement already satisfied: charset-normalizer<3,>=2 in c:\\users\\adity\\anaconda3\\envs\\bizanalytics2\\lib\\site-packages (from requests<3,>=2.21.0->tensorboard<2.10,>=2.9->tensorflow) (2.1.0)\n",
      "Requirement already satisfied: urllib3<1.27,>=1.21.1 in c:\\users\\adity\\anaconda3\\envs\\bizanalytics2\\lib\\site-packages (from requests<3,>=2.21.0->tensorboard<2.10,>=2.9->tensorflow) (1.26.10)\n",
      "Requirement already satisfied: oauthlib>=3.0.0 in c:\\users\\adity\\anaconda3\\envs\\bizanalytics2\\lib\\site-packages (from requests-oauthlib>=0.7.0->google-auth-oauthlib<0.5,>=0.4.1->tensorboard<2.10,>=2.9->tensorflow) (3.2.0)\n",
      "Requirement already satisfied: pyparsing!=3.0.5,>=2.0.2 in c:\\users\\adity\\appdata\\roaming\\python\\python310\\site-packages (from packaging->tensorflow) (3.0.9)\n"
     ]
    }
   ],
   "source": [
    "pip install tensorflow"
   ]
  },
  {
   "cell_type": "code",
   "execution_count": 3,
   "id": "f16a56c7",
   "metadata": {},
   "outputs": [],
   "source": [
    "import numpy as np\n",
    "import pandas as pd\n",
    "import datetime\n",
    "import math\n",
    "import matplotlib.pyplot as plt\n",
    "import seaborn as sns\n",
    "from sklearn.preprocessing import MinMaxScaler\n",
    "from tensorflow.keras.models import Sequential\n",
    "from tensorflow.keras.layers import Dense , LSTM\n",
    "from sklearn.metrics import mean_squared_error"
   ]
  },
  {
   "cell_type": "code",
   "execution_count": 4,
   "id": "e1d70f74",
   "metadata": {},
   "outputs": [],
   "source": [
    "Dataset_link='https://raw.githubusercontent.com/mwitiderrick/stockprice/master/NSE-TATAGLOBAL.csv'"
   ]
  },
  {
   "cell_type": "code",
   "execution_count": 5,
   "id": "6e75d29b",
   "metadata": {},
   "outputs": [
    {
     "data": {
      "text/html": [
       "<div>\n",
       "<style scoped>\n",
       "    .dataframe tbody tr th:only-of-type {\n",
       "        vertical-align: middle;\n",
       "    }\n",
       "\n",
       "    .dataframe tbody tr th {\n",
       "        vertical-align: top;\n",
       "    }\n",
       "\n",
       "    .dataframe thead th {\n",
       "        text-align: right;\n",
       "    }\n",
       "</style>\n",
       "<table border=\"1\" class=\"dataframe\">\n",
       "  <thead>\n",
       "    <tr style=\"text-align: right;\">\n",
       "      <th></th>\n",
       "      <th>Date</th>\n",
       "      <th>Open</th>\n",
       "      <th>High</th>\n",
       "      <th>Low</th>\n",
       "      <th>Last</th>\n",
       "      <th>Close</th>\n",
       "      <th>Total Trade Quantity</th>\n",
       "      <th>Turnover (Lacs)</th>\n",
       "    </tr>\n",
       "  </thead>\n",
       "  <tbody>\n",
       "    <tr>\n",
       "      <th>0</th>\n",
       "      <td>2018-09-28</td>\n",
       "      <td>234.05</td>\n",
       "      <td>235.95</td>\n",
       "      <td>230.20</td>\n",
       "      <td>233.50</td>\n",
       "      <td>233.75</td>\n",
       "      <td>3069914</td>\n",
       "      <td>7162.35</td>\n",
       "    </tr>\n",
       "    <tr>\n",
       "      <th>1</th>\n",
       "      <td>2018-09-27</td>\n",
       "      <td>234.55</td>\n",
       "      <td>236.80</td>\n",
       "      <td>231.10</td>\n",
       "      <td>233.80</td>\n",
       "      <td>233.25</td>\n",
       "      <td>5082859</td>\n",
       "      <td>11859.95</td>\n",
       "    </tr>\n",
       "    <tr>\n",
       "      <th>2</th>\n",
       "      <td>2018-09-26</td>\n",
       "      <td>240.00</td>\n",
       "      <td>240.00</td>\n",
       "      <td>232.50</td>\n",
       "      <td>235.00</td>\n",
       "      <td>234.25</td>\n",
       "      <td>2240909</td>\n",
       "      <td>5248.60</td>\n",
       "    </tr>\n",
       "    <tr>\n",
       "      <th>3</th>\n",
       "      <td>2018-09-25</td>\n",
       "      <td>233.30</td>\n",
       "      <td>236.75</td>\n",
       "      <td>232.00</td>\n",
       "      <td>236.25</td>\n",
       "      <td>236.10</td>\n",
       "      <td>2349368</td>\n",
       "      <td>5503.90</td>\n",
       "    </tr>\n",
       "    <tr>\n",
       "      <th>4</th>\n",
       "      <td>2018-09-24</td>\n",
       "      <td>233.55</td>\n",
       "      <td>239.20</td>\n",
       "      <td>230.75</td>\n",
       "      <td>234.00</td>\n",
       "      <td>233.30</td>\n",
       "      <td>3423509</td>\n",
       "      <td>7999.55</td>\n",
       "    </tr>\n",
       "    <tr>\n",
       "      <th>5</th>\n",
       "      <td>2018-09-21</td>\n",
       "      <td>235.00</td>\n",
       "      <td>237.00</td>\n",
       "      <td>227.95</td>\n",
       "      <td>233.75</td>\n",
       "      <td>234.60</td>\n",
       "      <td>5395319</td>\n",
       "      <td>12589.59</td>\n",
       "    </tr>\n",
       "    <tr>\n",
       "      <th>6</th>\n",
       "      <td>2018-09-19</td>\n",
       "      <td>235.95</td>\n",
       "      <td>237.20</td>\n",
       "      <td>233.45</td>\n",
       "      <td>234.60</td>\n",
       "      <td>234.90</td>\n",
       "      <td>1362058</td>\n",
       "      <td>3202.78</td>\n",
       "    </tr>\n",
       "    <tr>\n",
       "      <th>7</th>\n",
       "      <td>2018-09-18</td>\n",
       "      <td>237.90</td>\n",
       "      <td>239.25</td>\n",
       "      <td>233.50</td>\n",
       "      <td>235.50</td>\n",
       "      <td>235.05</td>\n",
       "      <td>2614794</td>\n",
       "      <td>6163.70</td>\n",
       "    </tr>\n",
       "    <tr>\n",
       "      <th>8</th>\n",
       "      <td>2018-09-17</td>\n",
       "      <td>233.15</td>\n",
       "      <td>238.00</td>\n",
       "      <td>230.25</td>\n",
       "      <td>236.40</td>\n",
       "      <td>236.60</td>\n",
       "      <td>3170894</td>\n",
       "      <td>7445.41</td>\n",
       "    </tr>\n",
       "    <tr>\n",
       "      <th>9</th>\n",
       "      <td>2018-09-14</td>\n",
       "      <td>223.45</td>\n",
       "      <td>236.70</td>\n",
       "      <td>223.30</td>\n",
       "      <td>234.00</td>\n",
       "      <td>233.95</td>\n",
       "      <td>6377909</td>\n",
       "      <td>14784.50</td>\n",
       "    </tr>\n",
       "  </tbody>\n",
       "</table>\n",
       "</div>"
      ],
      "text/plain": [
       "         Date    Open    High     Low    Last   Close  Total Trade Quantity  \\\n",
       "0  2018-09-28  234.05  235.95  230.20  233.50  233.75               3069914   \n",
       "1  2018-09-27  234.55  236.80  231.10  233.80  233.25               5082859   \n",
       "2  2018-09-26  240.00  240.00  232.50  235.00  234.25               2240909   \n",
       "3  2018-09-25  233.30  236.75  232.00  236.25  236.10               2349368   \n",
       "4  2018-09-24  233.55  239.20  230.75  234.00  233.30               3423509   \n",
       "5  2018-09-21  235.00  237.00  227.95  233.75  234.60               5395319   \n",
       "6  2018-09-19  235.95  237.20  233.45  234.60  234.90               1362058   \n",
       "7  2018-09-18  237.90  239.25  233.50  235.50  235.05               2614794   \n",
       "8  2018-09-17  233.15  238.00  230.25  236.40  236.60               3170894   \n",
       "9  2018-09-14  223.45  236.70  223.30  234.00  233.95               6377909   \n",
       "\n",
       "   Turnover (Lacs)  \n",
       "0          7162.35  \n",
       "1         11859.95  \n",
       "2          5248.60  \n",
       "3          5503.90  \n",
       "4          7999.55  \n",
       "5         12589.59  \n",
       "6          3202.78  \n",
       "7          6163.70  \n",
       "8          7445.41  \n",
       "9         14784.50  "
      ]
     },
     "execution_count": 5,
     "metadata": {},
     "output_type": "execute_result"
    }
   ],
   "source": [
    "df= pd.read_csv(Dataset_link, parse_dates=True,)\n",
    "df.reset_index()\n",
    "df.head(10)"
   ]
  },
  {
   "cell_type": "code",
   "execution_count": 7,
   "id": "5e602a85",
   "metadata": {},
   "outputs": [
    {
     "data": {
      "text/html": [
       "<div>\n",
       "<style scoped>\n",
       "    .dataframe tbody tr th:only-of-type {\n",
       "        vertical-align: middle;\n",
       "    }\n",
       "\n",
       "    .dataframe tbody tr th {\n",
       "        vertical-align: top;\n",
       "    }\n",
       "\n",
       "    .dataframe thead th {\n",
       "        text-align: right;\n",
       "    }\n",
       "</style>\n",
       "<table border=\"1\" class=\"dataframe\">\n",
       "  <thead>\n",
       "    <tr style=\"text-align: right;\">\n",
       "      <th></th>\n",
       "      <th>Date</th>\n",
       "      <th>Open</th>\n",
       "      <th>High</th>\n",
       "      <th>Low</th>\n",
       "      <th>Last</th>\n",
       "      <th>Close</th>\n",
       "      <th>Total Trade Quantity</th>\n",
       "      <th>Turnover (Lacs)</th>\n",
       "    </tr>\n",
       "  </thead>\n",
       "  <tbody>\n",
       "    <tr>\n",
       "      <th>728</th>\n",
       "      <td>2015-10-20</td>\n",
       "      <td>134.70</td>\n",
       "      <td>141.90</td>\n",
       "      <td>134.65</td>\n",
       "      <td>139.00</td>\n",
       "      <td>139.40</td>\n",
       "      <td>2469431</td>\n",
       "      <td>3446.98</td>\n",
       "    </tr>\n",
       "    <tr>\n",
       "      <th>1929</th>\n",
       "      <td>2010-12-20</td>\n",
       "      <td>115.00</td>\n",
       "      <td>115.90</td>\n",
       "      <td>114.00</td>\n",
       "      <td>115.60</td>\n",
       "      <td>115.45</td>\n",
       "      <td>282973</td>\n",
       "      <td>326.05</td>\n",
       "    </tr>\n",
       "    <tr>\n",
       "      <th>876</th>\n",
       "      <td>2015-03-17</td>\n",
       "      <td>155.25</td>\n",
       "      <td>157.30</td>\n",
       "      <td>155.25</td>\n",
       "      <td>156.50</td>\n",
       "      <td>156.70</td>\n",
       "      <td>1416285</td>\n",
       "      <td>2211.87</td>\n",
       "    </tr>\n",
       "    <tr>\n",
       "      <th>1353</th>\n",
       "      <td>2013-04-09</td>\n",
       "      <td>133.50</td>\n",
       "      <td>135.00</td>\n",
       "      <td>129.70</td>\n",
       "      <td>130.10</td>\n",
       "      <td>130.15</td>\n",
       "      <td>1762110</td>\n",
       "      <td>2334.40</td>\n",
       "    </tr>\n",
       "    <tr>\n",
       "      <th>1085</th>\n",
       "      <td>2014-05-09</td>\n",
       "      <td>142.10</td>\n",
       "      <td>145.95</td>\n",
       "      <td>142.10</td>\n",
       "      <td>145.00</td>\n",
       "      <td>145.00</td>\n",
       "      <td>1219063</td>\n",
       "      <td>1762.88</td>\n",
       "    </tr>\n",
       "    <tr>\n",
       "      <th>1826</th>\n",
       "      <td>2011-05-19</td>\n",
       "      <td>96.95</td>\n",
       "      <td>97.30</td>\n",
       "      <td>95.80</td>\n",
       "      <td>96.05</td>\n",
       "      <td>96.20</td>\n",
       "      <td>193726</td>\n",
       "      <td>186.62</td>\n",
       "    </tr>\n",
       "    <tr>\n",
       "      <th>1921</th>\n",
       "      <td>2010-12-30</td>\n",
       "      <td>110.50</td>\n",
       "      <td>110.90</td>\n",
       "      <td>106.60</td>\n",
       "      <td>107.45</td>\n",
       "      <td>107.25</td>\n",
       "      <td>2518794</td>\n",
       "      <td>2720.63</td>\n",
       "    </tr>\n",
       "    <tr>\n",
       "      <th>1984</th>\n",
       "      <td>2010-09-30</td>\n",
       "      <td>122.30</td>\n",
       "      <td>122.70</td>\n",
       "      <td>119.15</td>\n",
       "      <td>121.05</td>\n",
       "      <td>120.20</td>\n",
       "      <td>1240038</td>\n",
       "      <td>1495.40</td>\n",
       "    </tr>\n",
       "    <tr>\n",
       "      <th>1221</th>\n",
       "      <td>2013-10-21</td>\n",
       "      <td>164.50</td>\n",
       "      <td>165.35</td>\n",
       "      <td>159.00</td>\n",
       "      <td>159.80</td>\n",
       "      <td>159.60</td>\n",
       "      <td>3257249</td>\n",
       "      <td>5252.89</td>\n",
       "    </tr>\n",
       "    <tr>\n",
       "      <th>8</th>\n",
       "      <td>2018-09-17</td>\n",
       "      <td>233.15</td>\n",
       "      <td>238.00</td>\n",
       "      <td>230.25</td>\n",
       "      <td>236.40</td>\n",
       "      <td>236.60</td>\n",
       "      <td>3170894</td>\n",
       "      <td>7445.41</td>\n",
       "    </tr>\n",
       "  </tbody>\n",
       "</table>\n",
       "</div>"
      ],
      "text/plain": [
       "            Date    Open    High     Low    Last   Close  \\\n",
       "728   2015-10-20  134.70  141.90  134.65  139.00  139.40   \n",
       "1929  2010-12-20  115.00  115.90  114.00  115.60  115.45   \n",
       "876   2015-03-17  155.25  157.30  155.25  156.50  156.70   \n",
       "1353  2013-04-09  133.50  135.00  129.70  130.10  130.15   \n",
       "1085  2014-05-09  142.10  145.95  142.10  145.00  145.00   \n",
       "1826  2011-05-19   96.95   97.30   95.80   96.05   96.20   \n",
       "1921  2010-12-30  110.50  110.90  106.60  107.45  107.25   \n",
       "1984  2010-09-30  122.30  122.70  119.15  121.05  120.20   \n",
       "1221  2013-10-21  164.50  165.35  159.00  159.80  159.60   \n",
       "8     2018-09-17  233.15  238.00  230.25  236.40  236.60   \n",
       "\n",
       "      Total Trade Quantity  Turnover (Lacs)  \n",
       "728                2469431          3446.98  \n",
       "1929                282973           326.05  \n",
       "876                1416285          2211.87  \n",
       "1353               1762110          2334.40  \n",
       "1085               1219063          1762.88  \n",
       "1826                193726           186.62  \n",
       "1921               2518794          2720.63  \n",
       "1984               1240038          1495.40  \n",
       "1221               3257249          5252.89  \n",
       "8                  3170894          7445.41  "
      ]
     },
     "execution_count": 7,
     "metadata": {},
     "output_type": "execute_result"
    }
   ],
   "source": [
    "df.sample(10)"
   ]
  },
  {
   "cell_type": "code",
   "execution_count": 8,
   "id": "8c9ca5f8",
   "metadata": {},
   "outputs": [
    {
     "data": {
      "text/plain": [
       "Index(['Date', 'Open', 'High', 'Low', 'Last', 'Close', 'Total Trade Quantity',\n",
       "       'Turnover (Lacs)'],\n",
       "      dtype='object')"
      ]
     },
     "execution_count": 8,
     "metadata": {},
     "output_type": "execute_result"
    }
   ],
   "source": [
    "df.columns"
   ]
  },
  {
   "cell_type": "code",
   "execution_count": 9,
   "id": "c3e3b4dd",
   "metadata": {},
   "outputs": [
    {
     "data": {
      "text/plain": [
       "(2035, 8)"
      ]
     },
     "execution_count": 9,
     "metadata": {},
     "output_type": "execute_result"
    }
   ],
   "source": [
    "df.shape"
   ]
  },
  {
   "cell_type": "code",
   "execution_count": 10,
   "id": "dd51e84a",
   "metadata": {},
   "outputs": [
    {
     "name": "stdout",
     "output_type": "stream",
     "text": [
      "<class 'pandas.core.frame.DataFrame'>\n",
      "RangeIndex: 2035 entries, 0 to 2034\n",
      "Data columns (total 8 columns):\n",
      " #   Column                Non-Null Count  Dtype  \n",
      "---  ------                --------------  -----  \n",
      " 0   Date                  2035 non-null   object \n",
      " 1   Open                  2035 non-null   float64\n",
      " 2   High                  2035 non-null   float64\n",
      " 3   Low                   2035 non-null   float64\n",
      " 4   Last                  2035 non-null   float64\n",
      " 5   Close                 2035 non-null   float64\n",
      " 6   Total Trade Quantity  2035 non-null   int64  \n",
      " 7   Turnover (Lacs)       2035 non-null   float64\n",
      "dtypes: float64(6), int64(1), object(1)\n",
      "memory usage: 127.3+ KB\n"
     ]
    }
   ],
   "source": [
    "df.info()"
   ]
  },
  {
   "cell_type": "code",
   "execution_count": 11,
   "id": "8ba50931",
   "metadata": {},
   "outputs": [
    {
     "data": {
      "text/plain": [
       "Date                    0\n",
       "Open                    0\n",
       "High                    0\n",
       "Low                     0\n",
       "Last                    0\n",
       "Close                   0\n",
       "Total Trade Quantity    0\n",
       "Turnover (Lacs)         0\n",
       "dtype: int64"
      ]
     },
     "execution_count": 11,
     "metadata": {},
     "output_type": "execute_result"
    }
   ],
   "source": [
    "df.isnull().sum()"
   ]
  },
  {
   "cell_type": "code",
   "execution_count": 12,
   "id": "adc283a5",
   "metadata": {},
   "outputs": [
    {
     "data": {
      "text/html": [
       "<div>\n",
       "<style scoped>\n",
       "    .dataframe tbody tr th:only-of-type {\n",
       "        vertical-align: middle;\n",
       "    }\n",
       "\n",
       "    .dataframe tbody tr th {\n",
       "        vertical-align: top;\n",
       "    }\n",
       "\n",
       "    .dataframe thead th {\n",
       "        text-align: right;\n",
       "    }\n",
       "</style>\n",
       "<table border=\"1\" class=\"dataframe\">\n",
       "  <thead>\n",
       "    <tr style=\"text-align: right;\">\n",
       "      <th></th>\n",
       "      <th>Open</th>\n",
       "      <th>High</th>\n",
       "      <th>Low</th>\n",
       "      <th>Last</th>\n",
       "      <th>Close</th>\n",
       "      <th>Total Trade Quantity</th>\n",
       "      <th>Turnover (Lacs)</th>\n",
       "    </tr>\n",
       "  </thead>\n",
       "  <tbody>\n",
       "    <tr>\n",
       "      <th>count</th>\n",
       "      <td>2035.000000</td>\n",
       "      <td>2035.000000</td>\n",
       "      <td>2035.000000</td>\n",
       "      <td>2035.000000</td>\n",
       "      <td>2035.00000</td>\n",
       "      <td>2.035000e+03</td>\n",
       "      <td>2035.000000</td>\n",
       "    </tr>\n",
       "    <tr>\n",
       "      <th>mean</th>\n",
       "      <td>149.713735</td>\n",
       "      <td>151.992826</td>\n",
       "      <td>147.293931</td>\n",
       "      <td>149.474251</td>\n",
       "      <td>149.45027</td>\n",
       "      <td>2.335681e+06</td>\n",
       "      <td>3899.980565</td>\n",
       "    </tr>\n",
       "    <tr>\n",
       "      <th>std</th>\n",
       "      <td>48.664509</td>\n",
       "      <td>49.413109</td>\n",
       "      <td>47.931958</td>\n",
       "      <td>48.732570</td>\n",
       "      <td>48.71204</td>\n",
       "      <td>2.091778e+06</td>\n",
       "      <td>4570.767877</td>\n",
       "    </tr>\n",
       "    <tr>\n",
       "      <th>min</th>\n",
       "      <td>81.100000</td>\n",
       "      <td>82.800000</td>\n",
       "      <td>80.000000</td>\n",
       "      <td>81.000000</td>\n",
       "      <td>80.95000</td>\n",
       "      <td>3.961000e+04</td>\n",
       "      <td>37.040000</td>\n",
       "    </tr>\n",
       "    <tr>\n",
       "      <th>25%</th>\n",
       "      <td>120.025000</td>\n",
       "      <td>122.100000</td>\n",
       "      <td>118.300000</td>\n",
       "      <td>120.075000</td>\n",
       "      <td>120.05000</td>\n",
       "      <td>1.146444e+06</td>\n",
       "      <td>1427.460000</td>\n",
       "    </tr>\n",
       "    <tr>\n",
       "      <th>50%</th>\n",
       "      <td>141.500000</td>\n",
       "      <td>143.400000</td>\n",
       "      <td>139.600000</td>\n",
       "      <td>141.100000</td>\n",
       "      <td>141.25000</td>\n",
       "      <td>1.783456e+06</td>\n",
       "      <td>2512.030000</td>\n",
       "    </tr>\n",
       "    <tr>\n",
       "      <th>75%</th>\n",
       "      <td>157.175000</td>\n",
       "      <td>159.400000</td>\n",
       "      <td>155.150000</td>\n",
       "      <td>156.925000</td>\n",
       "      <td>156.90000</td>\n",
       "      <td>2.813594e+06</td>\n",
       "      <td>4539.015000</td>\n",
       "    </tr>\n",
       "    <tr>\n",
       "      <th>max</th>\n",
       "      <td>327.700000</td>\n",
       "      <td>328.750000</td>\n",
       "      <td>321.650000</td>\n",
       "      <td>325.950000</td>\n",
       "      <td>325.75000</td>\n",
       "      <td>2.919102e+07</td>\n",
       "      <td>55755.080000</td>\n",
       "    </tr>\n",
       "  </tbody>\n",
       "</table>\n",
       "</div>"
      ],
      "text/plain": [
       "              Open         High          Low         Last       Close  \\\n",
       "count  2035.000000  2035.000000  2035.000000  2035.000000  2035.00000   \n",
       "mean    149.713735   151.992826   147.293931   149.474251   149.45027   \n",
       "std      48.664509    49.413109    47.931958    48.732570    48.71204   \n",
       "min      81.100000    82.800000    80.000000    81.000000    80.95000   \n",
       "25%     120.025000   122.100000   118.300000   120.075000   120.05000   \n",
       "50%     141.500000   143.400000   139.600000   141.100000   141.25000   \n",
       "75%     157.175000   159.400000   155.150000   156.925000   156.90000   \n",
       "max     327.700000   328.750000   321.650000   325.950000   325.75000   \n",
       "\n",
       "       Total Trade Quantity  Turnover (Lacs)  \n",
       "count          2.035000e+03      2035.000000  \n",
       "mean           2.335681e+06      3899.980565  \n",
       "std            2.091778e+06      4570.767877  \n",
       "min            3.961000e+04        37.040000  \n",
       "25%            1.146444e+06      1427.460000  \n",
       "50%            1.783456e+06      2512.030000  \n",
       "75%            2.813594e+06      4539.015000  \n",
       "max            2.919102e+07     55755.080000  "
      ]
     },
     "execution_count": 12,
     "metadata": {},
     "output_type": "execute_result"
    }
   ],
   "source": [
    "df.describe()"
   ]
  },
  {
   "cell_type": "code",
   "execution_count": 13,
   "id": "720f62af",
   "metadata": {},
   "outputs": [
    {
     "data": {
      "image/png": "[encoded data removed]",
      "text/plain": [
       "<Figure size 1152x504 with 1 Axes>"
      ]
     },
     "metadata": {
      "needs_background": "light"
     },
     "output_type": "display_data"
    }
   ],
   "source": [
    "plt.figure(figsize=(10,6))\n",
    "df['Close'].plot(kind='line',figsize=(16,7),color='r',label=\"Closing Price\")\n",
    "\n",
    "plt.ylabel(\"Price\")\n",
    "plt.legend(loc=\"upper right\")\n",
    "plt.title(\"Change in closing price over the years\")\n",
    "plt.grid()"
   ]
  },
  {
   "cell_type": "code",
   "execution_count": 14,
   "id": "eda20a6f",
   "metadata": {},
   "outputs": [
    {
     "data": {
      "image/png": "[encoded data removed]",
      "text/plain": [
       "<Figure size 1152x504 with 1 Axes>"
      ]
     },
     "metadata": {
      "needs_background": "light"
     },
     "output_type": "display_data"
    }
   ],
   "source": [
    "plt.figure(figsize=(10,6))\n",
    "df['Open'].plot(kind='line',figsize=(16,7),color='y',label=\"Opening Price\")\n",
    "\n",
    "plt.ylabel(\"Price\")\n",
    "plt.legend(loc=\"upper left\")\n",
    "plt.title(\"Change in opening price over the years\")\n",
    "plt.grid()"
   ]
  },
  {
   "cell_type": "code",
   "execution_count": 20,
   "id": "d2b3754e",
   "metadata": {},
   "outputs": [
    {
     "data": {
      "text/plain": [
       "0       233.75\n",
       "1       233.25\n",
       "2       234.25\n",
       "3       236.10\n",
       "4       233.30\n",
       "         ...  \n",
       "2030    118.65\n",
       "2031    117.60\n",
       "2032    120.65\n",
       "2033    120.90\n",
       "2034    121.55\n",
       "Name: Close, Length: 2035, dtype: float64"
      ]
     },
     "execution_count": 20,
     "metadata": {},
     "output_type": "execute_result"
    }
   ],
   "source": [
    "df1=df.reset_index()['Close']\n",
    "df1"
   ]
  },
  {
   "cell_type": "code",
   "execution_count": 21,
   "id": "5bb52e09",
   "metadata": {},
   "outputs": [
    {
     "data": {
      "text/plain": [
       "<AxesSubplot:>"
      ]
     },
     "execution_count": 21,
     "metadata": {},
     "output_type": "execute_result"
    },
    {
     "data": {
      "image/png": "[encoded data removed]",
      "text/plain": [
       "<Figure size 864x432 with 2 Axes>"
      ]
     },
     "metadata": {
      "needs_background": "light"
     },
     "output_type": "display_data"
    }
   ],
   "source": [
    "plt.figure(figsize=(12,6))\n",
    "sns.heatmap(df.corr(),annot=True,cmap='BuPu')\n"
   ]
  },
  {
   "cell_type": "code",
   "execution_count": 22,
   "id": "4a04de7c",
   "metadata": {},
   "outputs": [
    {
     "data": {
      "text/plain": [
       "<AxesSubplot:ylabel='Turnover (Lacs)'>"
      ]
     },
     "execution_count": 22,
     "metadata": {},
     "output_type": "execute_result"
    },
    {
     "data": {
      "image/png": "[encoded data removed]",
      "text/plain": [
       "<Figure size 792x360 with 2 Axes>"
      ]
     },
     "metadata": {
      "needs_background": "light"
     },
     "output_type": "display_data"
    }
   ],
   "source": [
    "plt.figure(figsize=(11,5))\n",
    "plt.subplot(1,2,1)\n",
    "sns.boxplot(data=df,y='Total Trade Quantity',color='green')\n",
    "plt.subplot(1,2,2)\n",
    "sns.boxplot(data=df,y='Turnover (Lacs)',color='red')"
   ]
  },
  {
   "cell_type": "code",
   "execution_count": 23,
   "id": "60f8735f",
   "metadata": {},
   "outputs": [
    {
     "data": {
      "image/png": "[encoded data removed]",
      "text/plain": [
       "<Figure size 504x432 with 1 Axes>"
      ]
     },
     "metadata": {
      "needs_background": "light"
     },
     "output_type": "display_data"
    }
   ],
   "source": [
    "fig=plt.figure(figsize=(7,6))\n",
    "plt.scatter(df['Total Trade Quantity'],df['Turnover (Lacs)'], alpha=0.5, edgecolor='r', color='cyan')\n",
    "plt.xlabel(\"Trade Quantity (in 100000)\")\n",
    "plt.ylabel(\"Turnover (in lacs)\")\n",
    "plt.title(\" Selling Units Vs Turnover\")\n",
    "plt.show()"
   ]
  },
  {
   "cell_type": "code",
   "execution_count": 24,
   "id": "db3791df",
   "metadata": {},
   "outputs": [
    {
     "data": {
      "text/html": [
       "<div>\n",
       "<style scoped>\n",
       "    .dataframe tbody tr th:only-of-type {\n",
       "        vertical-align: middle;\n",
       "    }\n",
       "\n",
       "    .dataframe tbody tr th {\n",
       "        vertical-align: top;\n",
       "    }\n",
       "\n",
       "    .dataframe thead th {\n",
       "        text-align: right;\n",
       "    }\n",
       "</style>\n",
       "<table border=\"1\" class=\"dataframe\">\n",
       "  <thead>\n",
       "    <tr style=\"text-align: right;\">\n",
       "      <th></th>\n",
       "      <th>Open</th>\n",
       "    </tr>\n",
       "  </thead>\n",
       "  <tbody>\n",
       "    <tr>\n",
       "      <th>0</th>\n",
       "      <td>234.05</td>\n",
       "    </tr>\n",
       "    <tr>\n",
       "      <th>1</th>\n",
       "      <td>234.55</td>\n",
       "    </tr>\n",
       "    <tr>\n",
       "      <th>2</th>\n",
       "      <td>240.00</td>\n",
       "    </tr>\n",
       "    <tr>\n",
       "      <th>3</th>\n",
       "      <td>233.30</td>\n",
       "    </tr>\n",
       "    <tr>\n",
       "      <th>4</th>\n",
       "      <td>233.55</td>\n",
       "    </tr>\n",
       "    <tr>\n",
       "      <th>...</th>\n",
       "      <td>...</td>\n",
       "    </tr>\n",
       "    <tr>\n",
       "      <th>2030</th>\n",
       "      <td>117.60</td>\n",
       "    </tr>\n",
       "    <tr>\n",
       "      <th>2031</th>\n",
       "      <td>120.10</td>\n",
       "    </tr>\n",
       "    <tr>\n",
       "      <th>2032</th>\n",
       "      <td>121.80</td>\n",
       "    </tr>\n",
       "    <tr>\n",
       "      <th>2033</th>\n",
       "      <td>120.30</td>\n",
       "    </tr>\n",
       "    <tr>\n",
       "      <th>2034</th>\n",
       "      <td>122.10</td>\n",
       "    </tr>\n",
       "  </tbody>\n",
       "</table>\n",
       "<p>2035 rows × 1 columns</p>\n",
       "</div>"
      ],
      "text/plain": [
       "        Open\n",
       "0     234.05\n",
       "1     234.55\n",
       "2     240.00\n",
       "3     233.30\n",
       "4     233.55\n",
       "...      ...\n",
       "2030  117.60\n",
       "2031  120.10\n",
       "2032  121.80\n",
       "2033  120.30\n",
       "2034  122.10\n",
       "\n",
       "[2035 rows x 1 columns]"
      ]
     },
     "execution_count": 24,
     "metadata": {},
     "output_type": "execute_result"
    }
   ],
   "source": [
    "training_set= df[['Open']]\n",
    "training_set=pd.DataFrame(training_set)\n",
    "training_set"
   ]
  },
  {
   "cell_type": "code",
   "execution_count": 25,
   "id": "ced843fe",
   "metadata": {},
   "outputs": [],
   "source": [
    "scaler=MinMaxScaler(feature_range=(0,1))\n",
    "training_set_scaler=scaler.fit_transform(np.array(df1).reshape(-1,1))"
   ]
  },
  {
   "cell_type": "code",
   "execution_count": 26,
   "id": "0ba7f9e2",
   "metadata": {},
   "outputs": [
    {
     "data": {
      "text/plain": [
       "array([[0.62418301],\n",
       "       [0.62214052],\n",
       "       [0.62622549],\n",
       "       ...,\n",
       "       [0.1621732 ],\n",
       "       [0.16319444],\n",
       "       [0.16584967]])"
      ]
     },
     "execution_count": 26,
     "metadata": {},
     "output_type": "execute_result"
    }
   ],
   "source": [
    "training_set_scaler"
   ]
  },
  {
   "cell_type": "code",
   "execution_count": 27,
   "id": "51965a6f",
   "metadata": {},
   "outputs": [],
   "source": [
    "train_size1= int(len(training_set_scaler)*0.65)\n",
    "test_size1=int(len(training_set_scaler))-train_size1\n",
    "train_data1,test_data1=training_set_scaler[0:train_size1,:],training_set_scaler[train_size1:len(df),:1] "
   ]
  },
  {
   "cell_type": "code",
   "execution_count": 28,
   "id": "25a9f16a",
   "metadata": {},
   "outputs": [
    {
     "data": {
      "text/plain": [
       "1322"
      ]
     },
     "execution_count": 28,
     "metadata": {},
     "output_type": "execute_result"
    }
   ],
   "source": [
    "train_size1"
   ]
  },
  {
   "cell_type": "code",
   "execution_count": 29,
   "id": "386cad97",
   "metadata": {},
   "outputs": [],
   "source": [
    "def create_dataset(dataset,time_step=1):\n",
    "    dataX, dataY = [], []\n",
    "    for i in range(len(dataset)-time_step-1):\n",
    "        a = dataset[i:(i+time_step), 0]   ###i=0, 0,1,2,3-----99   100 \n",
    "        dataX.append(a)\n",
    "        dataY.append(dataset[i + time_step, 0])\n",
    "    return np.array(dataX), np.array(dataY)"
   ]
  },
  {
   "cell_type": "code",
   "execution_count": 30,
   "id": "1c289734",
   "metadata": {},
   "outputs": [],
   "source": [
    "time_step=100\n",
    "x_train, y_train=create_dataset(train_data1, time_step)\n",
    "x_test, y_test= create_dataset(test_data1, time_step)"
   ]
  },
  {
   "cell_type": "code",
   "execution_count": 31,
   "id": "98578062",
   "metadata": {},
   "outputs": [
    {
     "name": "stdout",
     "output_type": "stream",
     "text": [
      "(1221, 100) (1221,)\n"
     ]
    }
   ],
   "source": [
    "print(x_train.shape,y_train.shape)"
   ]
  },
  {
   "cell_type": "code",
   "execution_count": 32,
   "id": "69751809",
   "metadata": {},
   "outputs": [
    {
     "data": {
      "text/plain": [
       "(612, 100)"
      ]
     },
     "execution_count": 32,
     "metadata": {},
     "output_type": "execute_result"
    }
   ],
   "source": [
    "x_test.shape"
   ]
  },
  {
   "cell_type": "code",
   "execution_count": 33,
   "id": "79b046ae",
   "metadata": {},
   "outputs": [
    {
     "data": {
      "text/plain": [
       "(612,)"
      ]
     },
     "execution_count": 33,
     "metadata": {},
     "output_type": "execute_result"
    }
   ],
   "source": [
    "y_test.shape"
   ]
  },
  {
   "cell_type": "code",
   "execution_count": 34,
   "id": "a269ec34",
   "metadata": {},
   "outputs": [],
   "source": [
    "x_train = x_train.reshape(x_train.shape[0],x_train.shape[1] , 1)\n",
    "x_test = x_test.reshape(x_test.shape[0],x_test.shape[1] , 1)"
   ]
  },
  {
   "cell_type": "code",
   "execution_count": 35,
   "id": "47ca92dc",
   "metadata": {},
   "outputs": [],
   "source": [
    "model = Sequential()\n",
    "model.add(LSTM(50, return_sequences=True, input_shape=(100,1)))\n",
    "model.add(LSTM(50, return_sequences=True, input_shape=(100,1)))\n",
    "model.add(LSTM(50))\n",
    "model.add(Dense(1))\n",
    "model.compile(loss='mean_squared_error', optimizer='adam', metrics='acc')"
   ]
  },
  {
   "cell_type": "code",
   "execution_count": 36,
   "id": "58487683",
   "metadata": {},
   "outputs": [
    {
     "name": "stdout",
     "output_type": "stream",
     "text": [
      "Model: \"sequential\"\n",
      "_________________________________________________________________\n",
      " Layer (type)                Output Shape              Param #   \n",
      "=================================================================\n",
      " lstm (LSTM)                 (None, 100, 50)           10400     \n",
      "                                                                 \n",
      " lstm_1 (LSTM)               (None, 100, 50)           20200     \n",
      "                                                                 \n",
      " lstm_2 (LSTM)               (None, 50)                20200     \n",
      "                                                                 \n",
      " dense (Dense)               (None, 1)                 51        \n",
      "                                                                 \n",
      "=================================================================\n",
      "Total params: 50,851\n",
      "Trainable params: 50,851\n",
      "Non-trainable params: 0\n",
      "_________________________________________________________________\n"
     ]
    }
   ],
   "source": [
    "model.summary()"
   ]
  },
  {
   "cell_type": "code",
   "execution_count": 37,
   "id": "2d48a94c",
   "metadata": {},
   "outputs": [
    {
     "name": "stdout",
     "output_type": "stream",
     "text": [
      "Epoch 1/75\n",
      "20/20 [==============================] - 8s 224ms/step - loss: 0.0296 - acc: 8.1900e-04 - val_loss: 0.0051 - val_acc: 0.0016\n",
      "Epoch 2/75\n",
      "20/20 [==============================] - 2s 107ms/step - loss: 0.0037 - acc: 8.1900e-04 - val_loss: 0.0020 - val_acc: 0.0016\n",
      "Epoch 3/75\n",
      "20/20 [==============================] - 2s 110ms/step - loss: 0.0016 - acc: 8.1900e-04 - val_loss: 0.0013 - val_acc: 0.0016\n",
      "Epoch 4/75\n",
      "20/20 [==============================] - 2s 125ms/step - loss: 0.0015 - acc: 8.1900e-04 - val_loss: 0.0012 - val_acc: 0.0016\n",
      "Epoch 5/75\n",
      "20/20 [==============================] - 2s 111ms/step - loss: 0.0015 - acc: 8.1900e-04 - val_loss: 0.0011 - val_acc: 0.0016\n",
      "Epoch 6/75\n",
      "20/20 [==============================] - 3s 134ms/step - loss: 0.0015 - acc: 8.1900e-04 - val_loss: 0.0016 - val_acc: 0.0016\n",
      "Epoch 7/75\n",
      "20/20 [==============================] - 2s 122ms/step - loss: 0.0014 - acc: 8.1900e-04 - val_loss: 0.0013 - val_acc: 0.0016\n",
      "Epoch 8/75\n",
      "20/20 [==============================] - 2s 121ms/step - loss: 0.0014 - acc: 8.1900e-04 - val_loss: 0.0010 - val_acc: 0.0016\n",
      "Epoch 9/75\n",
      "20/20 [==============================] - 2s 114ms/step - loss: 0.0011 - acc: 8.1900e-04 - val_loss: 8.1605e-04 - val_acc: 0.0016\n",
      "Epoch 10/75\n",
      "20/20 [==============================] - 2s 116ms/step - loss: 0.0012 - acc: 8.1900e-04 - val_loss: 7.2804e-04 - val_acc: 0.0016\n",
      "Epoch 11/75\n",
      "20/20 [==============================] - 2s 116ms/step - loss: 0.0012 - acc: 8.1900e-04 - val_loss: 7.8742e-04 - val_acc: 0.0016\n",
      "Epoch 12/75\n",
      "20/20 [==============================] - 2s 120ms/step - loss: 0.0013 - acc: 8.1900e-04 - val_loss: 7.5747e-04 - val_acc: 0.0016\n",
      "Epoch 13/75\n",
      "20/20 [==============================] - 3s 137ms/step - loss: 9.7310e-04 - acc: 8.1900e-04 - val_loss: 8.0586e-04 - val_acc: 0.0016\n",
      "Epoch 14/75\n",
      "20/20 [==============================] - 3s 163ms/step - loss: 9.1595e-04 - acc: 8.1900e-04 - val_loss: 6.6756e-04 - val_acc: 0.0016\n",
      "Epoch 15/75\n",
      "20/20 [==============================] - 3s 141ms/step - loss: 9.5923e-04 - acc: 8.1900e-04 - val_loss: 9.0455e-04 - val_acc: 0.0016\n",
      "Epoch 16/75\n",
      "20/20 [==============================] - 3s 154ms/step - loss: 8.4788e-04 - acc: 8.1900e-04 - val_loss: 6.5725e-04 - val_acc: 0.0016\n",
      "Epoch 17/75\n",
      "20/20 [==============================] - 3s 137ms/step - loss: 9.9805e-04 - acc: 8.1900e-04 - val_loss: 8.1476e-04 - val_acc: 0.0016\n",
      "Epoch 18/75\n",
      "20/20 [==============================] - 3s 157ms/step - loss: 9.7262e-04 - acc: 8.1900e-04 - val_loss: 9.6886e-04 - val_acc: 0.0016\n",
      "Epoch 19/75\n",
      "20/20 [==============================] - 3s 137ms/step - loss: 8.5554e-04 - acc: 8.1900e-04 - val_loss: 6.1476e-04 - val_acc: 0.0016\n",
      "Epoch 20/75\n",
      "20/20 [==============================] - 3s 151ms/step - loss: 8.3538e-04 - acc: 8.1900e-04 - val_loss: 6.5435e-04 - val_acc: 0.0016\n",
      "Epoch 21/75\n",
      "20/20 [==============================] - 4s 203ms/step - loss: 7.2827e-04 - acc: 8.1900e-04 - val_loss: 7.5897e-04 - val_acc: 0.0016\n",
      "Epoch 22/75\n",
      "20/20 [==============================] - 3s 151ms/step - loss: 7.2807e-04 - acc: 8.1900e-04 - val_loss: 6.4181e-04 - val_acc: 0.0016\n",
      "Epoch 23/75\n",
      "20/20 [==============================] - 3s 148ms/step - loss: 7.4267e-04 - acc: 8.1900e-04 - val_loss: 7.1703e-04 - val_acc: 0.0016\n",
      "Epoch 24/75\n",
      "20/20 [==============================] - 3s 137ms/step - loss: 6.8670e-04 - acc: 8.1900e-04 - val_loss: 9.5026e-04 - val_acc: 0.0016\n",
      "Epoch 25/75\n",
      "20/20 [==============================] - 3s 129ms/step - loss: 6.7345e-04 - acc: 8.1900e-04 - val_loss: 8.2041e-04 - val_acc: 0.0016\n",
      "Epoch 26/75\n",
      "20/20 [==============================] - 3s 136ms/step - loss: 7.2274e-04 - acc: 8.1900e-04 - val_loss: 5.8014e-04 - val_acc: 0.0016\n",
      "Epoch 27/75\n",
      "20/20 [==============================] - 3s 127ms/step - loss: 8.9536e-04 - acc: 8.1900e-04 - val_loss: 6.3605e-04 - val_acc: 0.0016\n",
      "Epoch 28/75\n",
      "20/20 [==============================] - 2s 125ms/step - loss: 7.8705e-04 - acc: 8.1900e-04 - val_loss: 5.6285e-04 - val_acc: 0.0016\n",
      "Epoch 29/75\n",
      "20/20 [==============================] - 3s 126ms/step - loss: 7.4468e-04 - acc: 8.1900e-04 - val_loss: 7.9946e-04 - val_acc: 0.0016\n",
      "Epoch 30/75\n",
      "20/20 [==============================] - 3s 125ms/step - loss: 6.5669e-04 - acc: 8.1900e-04 - val_loss: 9.2514e-04 - val_acc: 0.0016\n",
      "Epoch 31/75\n",
      "20/20 [==============================] - 3s 166ms/step - loss: 6.6487e-04 - acc: 8.1900e-04 - val_loss: 6.4908e-04 - val_acc: 0.0016\n",
      "Epoch 32/75\n",
      "20/20 [==============================] - 3s 176ms/step - loss: 6.1851e-04 - acc: 8.1900e-04 - val_loss: 8.3434e-04 - val_acc: 0.0016\n",
      "Epoch 33/75\n",
      "20/20 [==============================] - 4s 178ms/step - loss: 6.6186e-04 - acc: 8.1900e-04 - val_loss: 7.6669e-04 - val_acc: 0.0016\n",
      "Epoch 34/75\n",
      "20/20 [==============================] - 4s 186ms/step - loss: 7.3632e-04 - acc: 8.1900e-04 - val_loss: 5.2347e-04 - val_acc: 0.0016\n",
      "Epoch 35/75\n",
      "20/20 [==============================] - 4s 178ms/step - loss: 7.2240e-04 - acc: 8.1900e-04 - val_loss: 7.8103e-04 - val_acc: 0.0016\n",
      "Epoch 36/75\n",
      "20/20 [==============================] - 4s 177ms/step - loss: 5.9971e-04 - acc: 8.1900e-04 - val_loss: 6.1313e-04 - val_acc: 0.0016\n",
      "Epoch 37/75\n",
      "20/20 [==============================] - 4s 182ms/step - loss: 6.0212e-04 - acc: 8.1900e-04 - val_loss: 5.8185e-04 - val_acc: 0.0016\n",
      "Epoch 38/75\n",
      "20/20 [==============================] - 3s 175ms/step - loss: 5.4610e-04 - acc: 8.1900e-04 - val_loss: 5.3100e-04 - val_acc: 0.0016\n",
      "Epoch 39/75\n",
      "20/20 [==============================] - 3s 168ms/step - loss: 5.6618e-04 - acc: 8.1900e-04 - val_loss: 7.2826e-04 - val_acc: 0.0016\n",
      "Epoch 40/75\n",
      "20/20 [==============================] - 3s 151ms/step - loss: 5.8523e-04 - acc: 8.1900e-04 - val_loss: 6.6045e-04 - val_acc: 0.0016\n",
      "Epoch 41/75\n",
      "20/20 [==============================] - 3s 153ms/step - loss: 6.3317e-04 - acc: 8.1900e-04 - val_loss: 5.1555e-04 - val_acc: 0.0016\n",
      "Epoch 42/75\n",
      "20/20 [==============================] - 3s 159ms/step - loss: 5.1728e-04 - acc: 8.1900e-04 - val_loss: 5.5306e-04 - val_acc: 0.0016\n",
      "Epoch 43/75\n",
      "20/20 [==============================] - 3s 162ms/step - loss: 5.4407e-04 - acc: 8.1900e-04 - val_loss: 5.7711e-04 - val_acc: 0.0016\n",
      "Epoch 44/75\n",
      "20/20 [==============================] - 3s 156ms/step - loss: 5.0143e-04 - acc: 8.1900e-04 - val_loss: 6.5126e-04 - val_acc: 0.0016\n",
      "Epoch 45/75\n",
      "20/20 [==============================] - 3s 150ms/step - loss: 5.0845e-04 - acc: 8.1900e-04 - val_loss: 4.9754e-04 - val_acc: 0.0016\n",
      "Epoch 46/75\n",
      "20/20 [==============================] - 3s 155ms/step - loss: 5.0229e-04 - acc: 8.1900e-04 - val_loss: 4.4010e-04 - val_acc: 0.0016\n",
      "Epoch 47/75\n",
      "20/20 [==============================] - 3s 157ms/step - loss: 5.2204e-04 - acc: 8.1900e-04 - val_loss: 5.9760e-04 - val_acc: 0.0016\n",
      "Epoch 48/75\n",
      "20/20 [==============================] - 3s 153ms/step - loss: 4.7859e-04 - acc: 8.1900e-04 - val_loss: 5.4614e-04 - val_acc: 0.0016\n",
      "Epoch 49/75\n",
      "20/20 [==============================] - 3s 149ms/step - loss: 4.6783e-04 - acc: 8.1900e-04 - val_loss: 5.6880e-04 - val_acc: 0.0016\n",
      "Epoch 50/75\n",
      "20/20 [==============================] - 3s 153ms/step - loss: 4.6180e-04 - acc: 8.1900e-04 - val_loss: 5.2857e-04 - val_acc: 0.0016\n",
      "Epoch 51/75\n",
      "20/20 [==============================] - 3s 152ms/step - loss: 4.8410e-04 - acc: 8.1900e-04 - val_loss: 5.0205e-04 - val_acc: 0.0016\n",
      "Epoch 52/75\n",
      "20/20 [==============================] - 3s 151ms/step - loss: 4.5109e-04 - acc: 8.1900e-04 - val_loss: 5.3425e-04 - val_acc: 0.0016\n",
      "Epoch 53/75\n",
      "20/20 [==============================] - 3s 154ms/step - loss: 4.8515e-04 - acc: 8.1900e-04 - val_loss: 4.4255e-04 - val_acc: 0.0016\n",
      "Epoch 54/75\n",
      "20/20 [==============================] - 3s 152ms/step - loss: 4.6291e-04 - acc: 8.1900e-04 - val_loss: 4.2781e-04 - val_acc: 0.0016\n",
      "Epoch 55/75\n",
      "20/20 [==============================] - 3s 152ms/step - loss: 4.4622e-04 - acc: 8.1900e-04 - val_loss: 4.6210e-04 - val_acc: 0.0016\n",
      "Epoch 56/75\n",
      "20/20 [==============================] - 3s 140ms/step - loss: 4.3379e-04 - acc: 8.1900e-04 - val_loss: 4.8096e-04 - val_acc: 0.0016\n",
      "Epoch 57/75\n",
      "20/20 [==============================] - 3s 138ms/step - loss: 4.2872e-04 - acc: 8.1900e-04 - val_loss: 5.2732e-04 - val_acc: 0.0016\n",
      "Epoch 58/75\n",
      "20/20 [==============================] - 3s 146ms/step - loss: 4.3519e-04 - acc: 8.1900e-04 - val_loss: 4.2696e-04 - val_acc: 0.0016\n",
      "Epoch 59/75\n",
      "20/20 [==============================] - 3s 143ms/step - loss: 3.9719e-04 - acc: 8.1900e-04 - val_loss: 4.2839e-04 - val_acc: 0.0016\n",
      "Epoch 60/75\n",
      "20/20 [==============================] - 3s 138ms/step - loss: 4.0168e-04 - acc: 8.1900e-04 - val_loss: 4.3095e-04 - val_acc: 0.0016\n",
      "Epoch 61/75\n",
      "20/20 [==============================] - 3s 139ms/step - loss: 3.8500e-04 - acc: 8.1900e-04 - val_loss: 3.8734e-04 - val_acc: 0.0016\n",
      "Epoch 62/75\n",
      "20/20 [==============================] - 3s 137ms/step - loss: 4.3684e-04 - acc: 8.1900e-04 - val_loss: 3.6448e-04 - val_acc: 0.0016\n",
      "Epoch 63/75\n",
      "20/20 [==============================] - 3s 140ms/step - loss: 3.9614e-04 - acc: 8.1900e-04 - val_loss: 4.3401e-04 - val_acc: 0.0016\n",
      "Epoch 64/75\n",
      "20/20 [==============================] - 3s 138ms/step - loss: 3.9256e-04 - acc: 8.1900e-04 - val_loss: 3.2439e-04 - val_acc: 0.0016\n",
      "Epoch 65/75\n",
      "20/20 [==============================] - 3s 136ms/step - loss: 3.6976e-04 - acc: 8.1900e-04 - val_loss: 3.1975e-04 - val_acc: 0.0016\n",
      "Epoch 66/75\n",
      "20/20 [==============================] - 3s 141ms/step - loss: 4.1880e-04 - acc: 8.1900e-04 - val_loss: 4.0664e-04 - val_acc: 0.0016\n",
      "Epoch 67/75\n",
      "20/20 [==============================] - 3s 140ms/step - loss: 3.6888e-04 - acc: 8.1900e-04 - val_loss: 3.7643e-04 - val_acc: 0.0016\n",
      "Epoch 68/75\n",
      "20/20 [==============================] - 3s 145ms/step - loss: 5.1082e-04 - acc: 8.1900e-04 - val_loss: 4.9711e-04 - val_acc: 0.0016\n",
      "Epoch 69/75\n",
      "20/20 [==============================] - 3s 140ms/step - loss: 3.4845e-04 - acc: 8.1900e-04 - val_loss: 3.5223e-04 - val_acc: 0.0016\n",
      "Epoch 70/75\n",
      "20/20 [==============================] - 3s 140ms/step - loss: 3.3471e-04 - acc: 8.1900e-04 - val_loss: 3.0677e-04 - val_acc: 0.0016\n",
      "Epoch 71/75\n",
      "20/20 [==============================] - 3s 141ms/step - loss: 3.4087e-04 - acc: 8.1900e-04 - val_loss: 3.3502e-04 - val_acc: 0.0016\n",
      "Epoch 72/75\n",
      "20/20 [==============================] - 3s 139ms/step - loss: 3.4214e-04 - acc: 8.1900e-04 - val_loss: 3.1910e-04 - val_acc: 0.0016\n",
      "Epoch 73/75\n",
      "20/20 [==============================] - 3s 140ms/step - loss: 4.3742e-04 - acc: 8.1900e-04 - val_loss: 3.8022e-04 - val_acc: 0.0016\n",
      "Epoch 74/75\n",
      "20/20 [==============================] - 3s 139ms/step - loss: 3.3241e-04 - acc: 8.1900e-04 - val_loss: 3.2578e-04 - val_acc: 0.0016\n",
      "Epoch 75/75\n",
      "20/20 [==============================] - 3s 140ms/step - loss: 3.1192e-04 - acc: 8.1900e-04 - val_loss: 3.5705e-04 - val_acc: 0.0016\n"
     ]
    },
    {
     "data": {
      "text/plain": [
       "<keras.callbacks.History at 0x1c5581b5180>"
      ]
     },
     "execution_count": 37,
     "metadata": {},
     "output_type": "execute_result"
    }
   ],
   "source": [
    "model.fit(x_train, y_train, validation_data = (x_test, y_test), epochs = 75, batch_size = 64, verbose = 1)"
   ]
  },
  {
   "cell_type": "code",
   "execution_count": 38,
   "id": "ca152e2c",
   "metadata": {},
   "outputs": [
    {
     "name": "stdout",
     "output_type": "stream",
     "text": [
      "39/39 [==============================] - 1s 17ms/step\n",
      "20/20 [==============================] - 0s 17ms/step\n"
     ]
    }
   ],
   "source": [
    "train_predict1=model.predict(x_train)\n",
    "test_predict1=model.predict(x_test)\n",
    "#Transformback to original form\n",
    "train_predict1=scaler.inverse_transform(train_predict1)\n",
    "test_predict1=scaler.inverse_transform(test_predict1)"
   ]
  },
  {
   "cell_type": "code",
   "execution_count": 39,
   "id": "7ec434ee",
   "metadata": {},
   "outputs": [
    {
     "data": {
      "text/plain": [
       "167.02335056631918"
      ]
     },
     "execution_count": 39,
     "metadata": {},
     "output_type": "execute_result"
    }
   ],
   "source": [
    "math.sqrt(mean_squared_error(y_train,train_predict1))"
   ]
  },
  {
   "cell_type": "code",
   "execution_count": 40,
   "id": "85da2bfc",
   "metadata": {},
   "outputs": [
    {
     "data": {
      "text/plain": [
       "117.16057734529409"
      ]
     },
     "execution_count": 40,
     "metadata": {},
     "output_type": "execute_result"
    }
   ],
   "source": [
    "math.sqrt(mean_squared_error(y_test,test_predict1))"
   ]
  },
  {
   "cell_type": "code",
   "execution_count": 41,
   "id": "540a2d33",
   "metadata": {},
   "outputs": [
    {
     "data": {
      "image/png": "[encoded data removed]",
      "text/plain": [
       "<Figure size 720x360 with 1 Axes>"
      ]
     },
     "metadata": {
      "needs_background": "light"
     },
     "output_type": "display_data"
    }
   ],
   "source": [
    "### Plotting \n",
    "# shift train predictions for plotting\n",
    "look_back=100\n",
    "trainPredictPlot = np.empty_like(training_set_scaler)\n",
    "trainPredictPlot[:, :] = np.nan\n",
    "trainPredictPlot[look_back:len(train_predict1)+look_back, :] = train_predict1\n",
    "\n",
    "# shift test predictions for plotting\n",
    "testPredictPlot = np.empty_like(training_set_scaler)\n",
    "testPredictPlot[:, :] = np.nan\n",
    "testPredictPlot[len(train_predict1)+(look_back*2)+1:len(df1)-1, :] = test_predict1\n",
    "\n",
    "# plot baseline and predictions\n",
    "plt.figure(figsize=(10,5))\n",
    "plt.plot(scaler.inverse_transform(training_set_scaler))\n",
    "plt.plot(trainPredictPlot)\n",
    "plt.plot(testPredictPlot)\n",
    "plt.show()"
   ]
  },
  {
   "cell_type": "code",
   "execution_count": null,
   "id": "07817b8a",
   "metadata": {},
   "outputs": [],
   "source": []
  }
 ],
 "metadata": {
  "kernelspec": {
   "display_name": "Python 3 (ipykernel)",
   "language": "python",
   "name": "python3"
  },
  "language_info": {
   "codemirror_mode": {
    "name": "ipython",
    "version": 3
   },
   "file_extension": ".py",
   "mimetype": "text/x-python",
   "name": "python",
   "nbconvert_exporter": "python",
   "pygments_lexer": "ipython3",
   "version": "3.10.4"
  }
 },
 "nbformat": 4,
 "nbformat_minor": 5
}
